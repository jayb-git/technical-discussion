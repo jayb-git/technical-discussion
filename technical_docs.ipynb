{
  "nbformat": 4,
  "nbformat_minor": 0,
  "metadata": {
    "colab": {
      "provenance": [],
      "authorship_tag": "ABX9TyMRoxzzenUKfg71ZrI9X1Ix",
      "include_colab_link": true
    },
    "kernelspec": {
      "name": "python3",
      "display_name": "Python 3"
    },
    "language_info": {
      "name": "python"
    }
  },
  "cells": [
    {
      "cell_type": "markdown",
      "metadata": {
        "id": "view-in-github",
        "colab_type": "text"
      },
      "source": [
        "<a href=\"https://colab.research.google.com/github/jayb-git/technical-discussion/blob/main/technical_docs.ipynb\" target=\"_parent\"><img src=\"https://colab.research.google.com/assets/colab-badge.svg\" alt=\"Open In Colab\"/></a>"
      ]
    },
    {
      "cell_type": "code",
      "execution_count": 6,
      "metadata": {
        "id": "3nMSFfsVBZFi"
      },
      "outputs": [],
      "source": [
        "## ingest\n"
      ]
    },
    {
      "cell_type": "code",
      "source": [
        "def hello_world():\n",
        "  return \"Hello\"\n",
        "  hello_world()\n"
      ],
      "metadata": {
        "id": "3pyGJPW3XPq6"
      },
      "execution_count": 9,
      "outputs": []
    },
    {
      "cell_type": "markdown",
      "source": [
        "### EDA\n"
      ],
      "metadata": {
        "id": "PWdvl16LYqxQ"
      }
    },
    {
      "cell_type": "markdown",
      "source": [],
      "metadata": {
        "id": "CZnKi-W8YuaZ"
      }
    },
    {
      "cell_type": "code",
      "source": [],
      "metadata": {
        "id": "EH4GnV3WX4aT"
      },
      "execution_count": 9,
      "outputs": []
    },
    {
      "cell_type": "code",
      "source": [],
      "metadata": {
        "id": "8i_3KCF1Y016"
      },
      "execution_count": null,
      "outputs": []
    }
  ]
}